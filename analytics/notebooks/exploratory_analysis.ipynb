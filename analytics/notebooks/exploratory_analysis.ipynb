{
 "cells": [
  {
   "cell_type": "markdown",
   "metadata": {},
   "source": [
    "# Supply Chain Verification System: Exploratory Data Analysis\n",
    "\n",
    "This notebook contains exploratory data analysis for our supply chain verification system. We'll analyze product data, transfer patterns, ethical scores, and look for potential anomalies."
   ]
  },
  {
   "cell_type": "code",
   "execution_count": null,
   "metadata": {},
   "outputs": [],
   "source": [
    "# Import necessary libraries\n",
    "import pandas as pd\n",
    "import numpy as np\n",
    "import matplotlib.pyplot as plt\n",
    "import seaborn as sns\n",
    "import plotly.express as px\n",
    "from sqlalchemy import create_engine\n",
    "from dotenv import load_dotenv\n",
    "import os\n",
    "\n",
    "# Load environment variables\n",
    "load_dotenv()\n",
    "\n",
    "# Set up database connection\n",
    "db_url = os.getenv('DATABASE_URL')\n",
    "engine = create_engine(db_url)\n",
    "\n",
    "# Set plot styles\n",
    "plt.style.use('seaborn')\n",
    "sns.set_palette('viridis')"
   ]
  },
  {
   "cell_type": "code",
   "execution_count": null,
   "metadata": {},
   "outputs": [],
   "source": [
    "# Load data\n",
    "query = \"\"\"\n",
    "SELECT \n",
    "    p.id AS product_id,\n",
    "    p.name,\n",
    "    p.manufacturer,\n",
    "    p.manufacturing_date,\n",
    "    p.batch_number,\n",
    "    p.current_owner,\n",
    "    p.category,\n",
    "    p.price,\n",
    "    p.quantity,\n",
    "    p.last_updated,\n",
    "    c.certification_body,\n",
    "    c.certification_date,\n",
    "    c.expiration_date,\n",
    "    e.score_category,\n",
    "    e.score,\n",
    "    e.assessment_date,\n",
    "    t.transfer_date,\n",
    "    t.from_owner,\n",
    "    t.to_owner,\n",
    "    t.location,\n",
    "    t.latitude,\n",
    "    t.longitude\n",
    "FROM products p\n",
    "LEFT JOIN certifications c ON p.id = c.product_id\n",
    "LEFT JOIN ethical_scores e ON p.id = e.product_id\n",
    "LEFT JOIN transfers t ON p.id = t.product_id\n",
    "\"\"\"\n",
    "\n",
    "df = pd.read_sql(query, engine)\n",
    "print(f\"Loaded {len(df)} records\")\n",
    "df.head()"
   ]
  },
  {
   "cell_type": "markdown",
   "metadata": {},
   "source": [
    "## Data Overview"
   ]
  },
  {
   "cell_type": "code",
   "execution_count": null,
   "metadata": {},
   "outputs": [],
   "source": [
    "# Display basic statistics\n",
    "df.describe()"
   ]
  },
  {
   "cell_type": "code",
   "execution_count": null,
   "metadata": {},
   "outputs": [],
   "source": [
    "# Check for missing values\n",
    "missing_values = df.isnull().sum()\n",
    "print(\"Missing values:\")\n",
    "print(missing_values[missing_values > 0])"
   ]
  },
  {
   "cell_type": "markdown",
   "metadata": {},
   "source": [
    "## Product Analysis"
   ]
  },
  {
   "cell_type": "code",
   "execution_count": null,
   "metadata": {},
   "outputs": [],
   "source": [
    "# Product category distribution\n",
    "plt.figure(figsize=(12, 6))\n",
    "df['category'].value_counts().plot(kind='bar')\n",
    "plt.title('Product Category Distribution')\n",
    "plt.xlabel('Category')\n",
    "plt.ylabel('Count')\n",
    "plt.xticks(rotation=45)\n",
    "plt.show()"
   ]
  },
  {
   "cell_type": "code",
   "execution_count": null,
   "metadata": {},
   "outputs": [],
   "source": [
    "# Price distribution\n",
    "plt.figure(figsize=(12, 6))\n",
    "sns.histplot(df['price'], kde=True)\n",
    "plt.title('Price Distribution')\n",
    "plt.xlabel('Price')\n",
    "plt.show()"
   ]
  },
  {
   "cell_type": "markdown",
   "metadata": {},
   "source": [
    "## Transfer Analysis"
   ]
  },
  {
   "cell_type": "code",
   "execution_count": null,
   "metadata": {},
   "outputs": [],
   "source": [
    "# Number of transfers over time\n",
    "df['transfer_date'] = pd.to_datetime(df['transfer_date'])\n",
    "transfers_over_time = df.groupby('transfer_date').size().reset_index(name='count')\n",
    "\n",
    "fig = px.line(transfers_over_time, x='transfer_date', y='count', title='Number of Transfers Over Time')\n",
    "fig.show()"
   ]
  },
  {
   "cell_type": "code",
   "execution_count": null,
   "metadata": {},
   "outputs": [],
   "source": [
    "# Transfer network visualization\n",
    "import networkx as nx\n",
    "\n",
    "G = nx.from_pandas_edgelist(df, 'from_owner', 'to_owner')\n",
    "pos = nx.spring_layout(G)\n",
    "\n",
    "plt.figure(figsize=(15, 15))\n",
    "nx.draw(G, pos, with_labels=True, node_color='lightblue', node_size=500, font_size=8, arrows=True)\n",
    "plt.title('Transfer Network')\n",
    "plt.show()"
   ]
  },
  {
   "cell_type": "markdown",
   "metadata": {},
   "source": [
    "## Ethical Sourcing Analysis"
   ]
  },
  {
   "cell_type": "code",
   "execution_count": null,
   "metadata": {},
   "outputs": [],
   "source": [
    "# Ethical score distribution\n",
    "plt.figure(figsize=(12, 6))\n",
    "sns.boxplot(x='score_category', y='score', data=df)\n",
    "plt.title('Ethical Score Distribution by Category')\n",
    "plt.xlabel('Score Category')\n",
    "plt.ylabel('Score')\n",
    "plt.show()"
   ]
  },
  {
   "cell_type": "code",
   "execution_count": null,
   "metadata": {},
   "outputs": [],
   "source": [
    "# Certification status\n",
    "cert_status = df['certification_body'].notna().value_counts()\n",
    "plt.figure(figsize=(8, 8))\n",
    "plt.pie(cert_status.values, labels=['Certified', 'Not Certified'], autopct='%1.1f%%')\n",
    "plt.title('Product Certification Status')\n",
    "plt.show()"
   ]
  },
  {
   "cell_type": "markdown",
   "metadata": {},
   "source": [
    "## Anomaly Detection"
   ]
  },
  {
   "cell_type": "code",
   "execution_count": null,
   "metadata": {},
   "outputs": [],
   "source": [
    "from sklearn.ensemble import IsolationForest\n",
    "\n",
    "# Prepare data for anomaly detection\n",
    "anomaly_features = ['price', 'quantity', 'score']\n",
    "X = df[anomaly_features].dropna()\n",
    "\n",
    "# Train isolation forest model\n",
    "clf = IsolationForest(contamination=0.1, random_state=42)\n",
    "clf.fit(X)\n",
    "\n",
    "# Predict anomalies\n",
    "X['anomaly'] = clf.predict(X)\n",
    "\n",
    "# Visualize anomalies\n",
    "fig = px.scatter_3d(X, x='price', y='quantity', z='score', color='anomaly',\n",
    "                    title='Anomaly Detection in 3D Space')\n",
    "fig.show()"
   ]
  },
  {
   "cell_type": "markdown",
   "metadata": {},
   "source": [
    "## Conclusion\n",
    "\n",
    "This exploratory data analysis has provided insights into our supply chain verification system, including:\n",
    "\n",
    "1. Product category distribution and pricing patterns\n",
    "2. Transfer patterns over time and network visualization\n",
    "3. Ethical sourcing scores and certification status\n",
    "4. Potential anomalies in price, quantity, and ethical scores\n",
    "\n",
    "These insights can be used to improve our verification processes, identify potential risks, and enhance the overall efficiency of the supply chain."
   ]
  }
 ],
 "metadata": {
  "kernelspec": {
   "display_name": "Python 3",
   "language": "python",
   "name": "python3"
  },
  "language_info": {
   "codemirror_mode": {
    "name": "ipython",
    "version": 3
   },
   "file_extension": ".py",
   "mimetype": "text/x-python",
   "name": "python",
   "nbconvert_exporter": "python",
   "pygments_lexer": "ipython3",
   "version": "3.8.10"
  }
 },
 "nbformat": 4,
 "nbformat_minor": 4
}
